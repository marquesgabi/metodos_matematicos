{
  "nbformat": 4,
  "nbformat_minor": 0,
  "metadata": {
    "colab": {
      "name": "TRABALHO_1_Elimina_Gauss_version_03_set_01_2020.ipynb",
      "provenance": [],
      "collapsed_sections": [],
      "include_colab_link": true
    },
    "kernelspec": {
      "name": "python3",
      "display_name": "Python 3"
    }
  },
  "cells": [
    {
      "cell_type": "markdown",
      "metadata": {
        "id": "view-in-github",
        "colab_type": "text"
      },
      "source": [
        "<a href=\"https://colab.research.google.com/github/marquesgabi/metodos_numericos/blob/master/TRABALHO_1_Elimina_Gauss_version_03_set_01_2020.ipynb\" target=\"_parent\"><img src=\"https://colab.research.google.com/assets/colab-badge.svg\" alt=\"Open In Colab\"/></a>"
      ]
    },
    {
      "cell_type": "code",
      "metadata": {
        "id": "remAkX_qlBLr",
        "colab_type": "code",
        "colab": {}
      },
      "source": [
        "import numpy as np\n",
        "import time\n",
        "import matplotlib.pyplot as plt\n",
        "import numpy.linalg as npla\n"
      ],
      "execution_count": 34,
      "outputs": []
    },
    {
      "cell_type": "code",
      "metadata": {
        "id": "clzavdYjXoAM",
        "colab_type": "code",
        "colab": {
          "base_uri": "https://localhost:8080/",
          "height": 150
        },
        "outputId": "d71a20d9-7d21-4a5e-d153-59ac789b477e"
      },
      "source": [
        "!git clone https://github.com/ucfilho/Disciplina_Metodos_Numericos_2020 #clonar do Github\n",
        "%cd Disciplina_Metodos_Numericos_2020"
      ],
      "execution_count": 35,
      "outputs": [
        {
          "output_type": "stream",
          "text": [
            "Cloning into 'Disciplina_Metodos_Numericos_2020'...\n",
            "remote: Enumerating objects: 109, done.\u001b[K\n",
            "remote: Counting objects: 100% (109/109), done.\u001b[K\n",
            "remote: Compressing objects: 100% (107/107), done.\u001b[K\n",
            "remote: Total 109 (delta 59), reused 0 (delta 0), pack-reused 0\u001b[K\n",
            "Receiving objects: 100% (109/109), 45.51 KiB | 11.38 MiB/s, done.\n",
            "Resolving deltas: 100% (59/59), done.\n",
            "/content/Disciplina_Metodos_Numericos_2020/Disciplina_Metodos_Numericos_2020/Disciplina_Metodos_Numericos_2020/Disciplina_Metodos_Numericos_2020/Disciplina_Metodos_Numericos_2020\n"
          ],
          "name": "stdout"
        }
      ]
    },
    {
      "cell_type": "code",
      "metadata": {
        "id": "4OjpuViIyte3",
        "colab_type": "code",
        "colab": {
          "base_uri": "https://localhost:8080/",
          "height": 34
        },
        "outputId": "505c1adf-d51f-4119-9a23-cbeb5ad69750"
      },
      "source": [
        "'''\n",
        "# caso fosse no computador\n",
        "import os \n",
        "Local=\"C://Endereco da pasta\"\n",
        "os.chdir(Local) \n",
        "'''"
      ],
      "execution_count": 36,
      "outputs": [
        {
          "output_type": "execute_result",
          "data": {
            "application/vnd.google.colaboratory.intrinsic+json": {
              "type": "string"
            },
            "text/plain": [
              "'\\n# caso fosse no computador\\nimport os \\nLocal=\"C://Endereco da pasta\"\\nos.chdir(Local) \\n'"
            ]
          },
          "metadata": {
            "tags": []
          },
          "execution_count": 36
        }
      ]
    },
    {
      "cell_type": "markdown",
      "metadata": {
        "id": "YTY3JZV2UNGf",
        "colab_type": "text"
      },
      "source": [
        ""
      ]
    },
    {
      "cell_type": "code",
      "metadata": {
        "id": "dBfKB-QKm-91",
        "colab_type": "code",
        "colab": {}
      },
      "source": [
        "from Elimina_Gauss import LU, BS"
      ],
      "execution_count": 37,
      "outputs": []
    },
    {
      "cell_type": "code",
      "metadata": {
        "id": "nQAUrcZ7nwbu",
        "colab_type": "code",
        "colab": {
          "base_uri": "https://localhost:8080/",
          "height": 50
        },
        "outputId": "0dda2c28-62aa-4de3-98b4-51a44fb3124f"
      },
      "source": [
        "# create the matrix A\n",
        "#A = np. array ([[0.9 ,0.3 ,0.1] ,[0.1 ,0.5 ,0.2] , [0.0 ,0.2 ,0.7]])\n",
        "A = np. array ([[1 ,1 ,0 , 0] , [-220 ,0 ,1 , 0] , [0 ,-0.3 ,0 , 1] , [0 ,0 ,1 , 1]]) # m_etano e octano. matriz a 4x4\n",
        "\n",
        "# create the right-hand side\n",
        "#feed = np. array ([30.0 ,25.0 ,10.0])\n",
        "feed = np. array ([1 ,0 ,0 ,1]) #é a matriz b\n",
        "M,info = LU(A,feed)\n",
        "x,info = BS(M)\n",
        "\n",
        "# print the solution\n",
        "print(x)\n",
        "\n",
        "# check the solution\n",
        "check_sol = np.dot(A,x)\n",
        "print(check_sol) \n"
      ],
      "execution_count": 38,
      "outputs": [
        {
          "output_type": "stream",
          "text": [
            "[0.00318616 0.99681384 0.70095585 0.29904415]\n",
            "[1.00000000e+00 8.21565038e-15 0.00000000e+00 1.00000000e+00]\n"
          ],
          "name": "stdout"
        }
      ]
    },
    {
      "cell_type": "code",
      "metadata": {
        "id": "0TEP-IkKczu8",
        "colab_type": "code",
        "colab": {}
      },
      "source": [
        "Xm=0.00318616\n",
        "Xo=0.99681384\n",
        "Ym=0.70095585\n",
        "Yo=0.29904415\n",
        "Zo=0.9\n",
        "Zm=0.1"
      ],
      "execution_count": 39,
      "outputs": []
    },
    {
      "cell_type": "code",
      "metadata": {
        "id": "yJ0_4joudYaA",
        "colab_type": "code",
        "colab": {}
      },
      "source": [
        "# create the matrix B\n",
        "B = np. array ([[1 ,1 ,-1] , [Ym ,Xm ,-Zm] , [0 ,0 ,Zm]]) # m_etano e octano. matriz a 3x3"
      ],
      "execution_count": 40,
      "outputs": []
    },
    {
      "cell_type": "code",
      "metadata": {
        "id": "-rKKSkKHgpTt",
        "colab_type": "code",
        "colab": {
          "base_uri": "https://localhost:8080/",
          "height": 33
        },
        "outputId": "3299c635-edc8-44e5-c483-332b63b5094b"
      },
      "source": [
        "# create the right-hand side\n",
        "feed = np. array ([0 ,0 ,10]) #é a matriz b\n",
        "\n",
        "MN,info = LU(B,feed)\n",
        "x,info = BS(MN) #back substitution, vem fazendo a mesma coisa de tras pra frente\n",
        "\n",
        "# print the solution\n",
        "print(x) #matriz B é a matriz identidade, a ultima coluna é a matriz x."
      ],
      "execution_count": 41,
      "outputs": [
        {
          "output_type": "stream",
          "text": [
            "[ 13.87475572  86.12524428 100.        ]\n"
          ],
          "name": "stdout"
        }
      ]
    }
  ]
}