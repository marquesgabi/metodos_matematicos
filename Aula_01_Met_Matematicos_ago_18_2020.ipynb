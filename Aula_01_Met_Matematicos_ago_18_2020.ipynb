{
  "nbformat": 4,
  "nbformat_minor": 0,
  "metadata": {
    "colab": {
      "name": "Aula_01_Met_Matematicos_ago_18_2020.ipynb",
      "provenance": [],
      "collapsed_sections": [],
      "include_colab_link": true
    },
    "kernelspec": {
      "name": "python3",
      "display_name": "Python 3"
    }
  },
  "cells": [
    {
      "cell_type": "markdown",
      "metadata": {
        "id": "view-in-github",
        "colab_type": "text"
      },
      "source": [
        "<a href=\"https://colab.research.google.com/github/marquesgabi/metodos_matematicos/blob/master/Aula_01_Met_Matematicos_ago_18_2020.ipynb\" target=\"_parent\"><img src=\"https://colab.research.google.com/assets/colab-badge.svg\" alt=\"Open In Colab\"/></a>"
      ]
    },
    {
      "cell_type": "code",
      "metadata": {
        "id": "mBJKTPUF4pos",
        "colab_type": "code",
        "colab": {
          "base_uri": "https://localhost:8080/",
          "height": 50
        },
        "outputId": "1fe01c9a-2e11-4b79-901c-e9eed8345978"
      },
      "source": [
        "# testando primeiros\n",
        "print('Hello world')\n",
        "print('Hello world, I am evolving')"
      ],
      "execution_count": null,
      "outputs": [
        {
          "output_type": "stream",
          "text": [
            "Hello world\n",
            "Hello world, I am evolving\n"
          ],
          "name": "stdout"
        }
      ]
    },
    {
      "cell_type": "markdown",
      "metadata": {
        "id": "0KWGA4YN7Ywb",
        "colab_type": "text"
      },
      "source": [
        "$x=\\frac{a}{b}$"
      ]
    },
    {
      "cell_type": "code",
      "metadata": {
        "id": "h63k4K197gyH",
        "colab_type": "code",
        "colab": {
          "base_uri": "https://localhost:8080/",
          "height": 151
        },
        "outputId": "f60581b4-f7b1-4f2a-fd4d-41a8cf6d5c72"
      },
      "source": [
        "for k in range(2):\n",
        "  for i in range(2):\n",
        "    for j in range(2):\n",
        "      print('k=',k,'i=',i,'j=',j)"
      ],
      "execution_count": null,
      "outputs": [
        {
          "output_type": "stream",
          "text": [
            "k= 0 i= 0 j= 0\n",
            "k= 0 i= 0 j= 1\n",
            "k= 0 i= 1 j= 0\n",
            "k= 0 i= 1 j= 1\n",
            "k= 1 i= 0 j= 0\n",
            "k= 1 i= 0 j= 1\n",
            "k= 1 i= 1 j= 0\n",
            "k= 1 i= 1 j= 1\n"
          ],
          "name": "stdout"
        }
      ]
    },
    {
      "cell_type": "code",
      "metadata": {
        "id": "g54p-HBN-GJZ",
        "colab_type": "code",
        "colab": {
          "base_uri": "https://localhost:8080/",
          "height": 185
        },
        "outputId": "8117e200-476c-451b-b79b-26f29b2297c7"
      },
      "source": [
        "for k in range(2):\n",
        "  for i in range(2):\n",
        "    for j in range(2):\n",
        "      print('k=',k,'i=',i,'j=',j)\n",
        "  print('===================')"
      ],
      "execution_count": null,
      "outputs": [
        {
          "output_type": "stream",
          "text": [
            "k= 0 i= 0 j= 0\n",
            "k= 0 i= 0 j= 1\n",
            "k= 0 i= 1 j= 0\n",
            "k= 0 i= 1 j= 1\n",
            "===================\n",
            "k= 1 i= 0 j= 0\n",
            "k= 1 i= 0 j= 1\n",
            "k= 1 i= 1 j= 0\n",
            "k= 1 i= 1 j= 1\n",
            "===================\n"
          ],
          "name": "stdout"
        }
      ]
    },
    {
      "cell_type": "code",
      "metadata": {
        "id": "5i8F-eTs_q0D",
        "colab_type": "code",
        "colab": {
          "base_uri": "https://localhost:8080/",
          "height": 34
        },
        "outputId": "ccaef2b7-33da-4916-91d2-5f1d168ac2ed"
      },
      "source": [
        "x=[] # lista exemplo\n",
        "for i in range(5):\n",
        "  x.append(i)\n",
        "print(x)"
      ],
      "execution_count": null,
      "outputs": [
        {
          "output_type": "stream",
          "text": [
            "[0, 1, 2, 3, 4]\n"
          ],
          "name": "stdout"
        }
      ]
    },
    {
      "cell_type": "code",
      "metadata": {
        "id": "lz_1KLxuAnu-",
        "colab_type": "code",
        "colab": {
          "base_uri": "https://localhost:8080/",
          "height": 34
        },
        "outputId": "00e9d040-7b51-40e0-bf3e-570fcd85c756"
      },
      "source": [
        "x=[] # lista exemplo\n",
        "w=[]\n",
        "for i in range(3):\n",
        "  for j in range(3):\n",
        "    x.append(j)\n",
        "  w.append(x)\n",
        "print(w)"
      ],
      "execution_count": null,
      "outputs": [
        {
          "output_type": "stream",
          "text": [
            "[[0, 1, 2, 0, 1, 2, 0, 1, 2], [0, 1, 2, 0, 1, 2, 0, 1, 2], [0, 1, 2, 0, 1, 2, 0, 1, 2]]\n"
          ],
          "name": "stdout"
        }
      ]
    },
    {
      "cell_type": "code",
      "metadata": {
        "id": "3A79AnQ4BUCL",
        "colab_type": "code",
        "colab": {
          "base_uri": "https://localhost:8080/",
          "height": 34
        },
        "outputId": "fb8537f8-da27-4fa3-99f3-66ea3c74309f"
      },
      "source": [
        " # lista exemplo\n",
        "y=[]\n",
        "for i in range(3):\n",
        "  x=[]\n",
        "  for j in range(3):\n",
        "    x.append(j)\n",
        "  y.append(x)\n",
        "print(y)"
      ],
      "execution_count": null,
      "outputs": [
        {
          "output_type": "stream",
          "text": [
            "[[0, 1, 2], [0, 1, 2], [0, 1, 2]]\n"
          ],
          "name": "stdout"
        }
      ]
    },
    {
      "cell_type": "code",
      "metadata": {
        "id": "5BZ6zVjqCoEN",
        "colab_type": "code",
        "colab": {
          "base_uri": "https://localhost:8080/",
          "height": 34
        },
        "outputId": "22a66700-83a2-4dd0-d1e7-2144c48dab3f"
      },
      "source": [
        "print(y)"
      ],
      "execution_count": null,
      "outputs": [
        {
          "output_type": "stream",
          "text": [
            "[[0, 1, 2], [0, 1, 2], [0, 1, 2]]\n"
          ],
          "name": "stdout"
        }
      ]
    },
    {
      "cell_type": "code",
      "metadata": {
        "id": "bxkxWd5gDlkf",
        "colab_type": "code",
        "colab": {}
      },
      "source": [
        "import pandas as pd\n",
        "import numpy as np"
      ],
      "execution_count": null,
      "outputs": []
    },
    {
      "cell_type": "code",
      "metadata": {
        "id": "YDZWYHOeDvU2",
        "colab_type": "code",
        "colab": {
          "base_uri": "https://localhost:8080/",
          "height": 84
        },
        "outputId": "8b2679ac-21c2-46a3-93f0-c4b2c894d806"
      },
      "source": [
        "df=pd.DataFrame(y)\n",
        "print(df)"
      ],
      "execution_count": null,
      "outputs": [
        {
          "output_type": "stream",
          "text": [
            "   0  1  2\n",
            "0  0  1  2\n",
            "1  0  1  2\n",
            "2  0  1  2\n"
          ],
          "name": "stdout"
        }
      ]
    },
    {
      "cell_type": "code",
      "metadata": {
        "id": "sPFg4m-AEt0m",
        "colab_type": "code",
        "colab": {
          "base_uri": "https://localhost:8080/",
          "height": 67
        },
        "outputId": "3aac266c-fb1e-488d-9545-f1cbc5f7d747"
      },
      "source": [
        "mat=np.array(y)\n",
        "print(mat)"
      ],
      "execution_count": null,
      "outputs": [
        {
          "output_type": "stream",
          "text": [
            "[[0 1 2]\n",
            " [0 1 2]\n",
            " [0 1 2]]\n"
          ],
          "name": "stdout"
        }
      ]
    },
    {
      "cell_type": "code",
      "metadata": {
        "id": "cIpqO10_FRcw",
        "colab_type": "code",
        "colab": {
          "base_uri": "https://localhost:8080/",
          "height": 67
        },
        "outputId": "e27d1d08-8668-47b3-c450-7f9d831594de"
      },
      "source": [
        "mat[0,1]=99\n",
        "print(mat)"
      ],
      "execution_count": null,
      "outputs": [
        {
          "output_type": "stream",
          "text": [
            "[[ 0 99  2]\n",
            " [ 0  1  2]\n",
            " [ 0  1  2]]\n"
          ],
          "name": "stdout"
        }
      ]
    },
    {
      "cell_type": "code",
      "metadata": {
        "id": "Drm-hW-HFrxR",
        "colab_type": "code",
        "colab": {
          "base_uri": "https://localhost:8080/",
          "height": 34
        },
        "outputId": "6ddf6239-0e98-4052-8170-30d57e2651cd"
      },
      "source": [
        "print(mat[0,:])"
      ],
      "execution_count": null,
      "outputs": [
        {
          "output_type": "stream",
          "text": [
            "[ 0 99  2]\n"
          ],
          "name": "stdout"
        }
      ]
    },
    {
      "cell_type": "code",
      "metadata": {
        "id": "CVavEtoiF2xD",
        "colab_type": "code",
        "colab": {
          "base_uri": "https://localhost:8080/",
          "height": 34
        },
        "outputId": "feaca42d-cfb3-414c-df7b-de9a852fb73f"
      },
      "source": [
        "print(mat[:,0])"
      ],
      "execution_count": null,
      "outputs": [
        {
          "output_type": "stream",
          "text": [
            "[0 0 0]\n"
          ],
          "name": "stdout"
        }
      ]
    },
    {
      "cell_type": "code",
      "metadata": {
        "id": "YBHx9gcYGHP-",
        "colab_type": "code",
        "colab": {}
      },
      "source": [
        "# Recaptulando\n",
        "# 1-tem o formato lista\n",
        "# 2-tem o formato numpy array\n",
        "# 3- tem o formato dataframe\n",
        "# 4- indice começa no zero\n",
        "# 5- tem varias situações que é possível converter formato"
      ],
      "execution_count": null,
      "outputs": []
    }
  ]
}